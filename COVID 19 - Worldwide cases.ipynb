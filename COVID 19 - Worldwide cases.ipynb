{
 "cells": [
  {
   "cell_type": "markdown",
   "metadata": {},
   "source": [
    "<h1>COVID-19: CONFIRMED, DEATHS AND RECOVERED GLOBAL CASES</h1>"
   ]
  },
  {
   "cell_type": "markdown",
   "metadata": {},
   "source": [
    "<p>The objective of this study is analyse the Covid-19 confirmed cases, deaths and recovered people around the world comparing with Brazil</p>"
   ]
  },
  {
   "cell_type": "markdown",
   "metadata": {},
   "source": [
    "# SETUP"
   ]
  },
  {
   "cell_type": "markdown",
   "metadata": {},
   "source": [
    "<p> Importing the libraries that we'll use</p>"
   ]
  },
  {
   "cell_type": "code",
   "execution_count": 1,
   "metadata": {},
   "outputs": [],
   "source": [
    "import pandas as pd\n",
    "import numpy as np\n",
    "import matplotlib.pyplot as plt\n",
    "import seaborn as sns\n",
    "from datetime import date,timedelta"
   ]
  },
  {
   "cell_type": "markdown",
   "metadata": {},
   "source": [
    "<p> Importing the database</p>\n",
    "<p> I'm using datas from CSSEGIS in GitHub</p>"
   ]
  },
  {
   "cell_type": "code",
   "execution_count": 2,
   "metadata": {},
   "outputs": [],
   "source": [
    "confirmed = pd.read_csv('https://raw.githubusercontent.com/CSSEGISandData/COVID-19/master/csse_covid_19_data/csse_covid_19_time_series/time_series_covid19_confirmed_global.csv')\n",
    "deaths = pd.read_csv('https://raw.githubusercontent.com/CSSEGISandData/COVID-19/master/csse_covid_19_data/csse_covid_19_time_series/time_series_covid19_deaths_global.csv')\n",
    "recovered = pd.read_csv('https://raw.githubusercontent.com/CSSEGISandData/COVID-19/master/csse_covid_19_data/csse_covid_19_time_series/time_series_covid19_recovered_global.csv')"
   ]
  },
  {
   "cell_type": "markdown",
   "metadata": {},
   "source": [
    "<p> Getting yesterday date</p>"
   ]
  },
  {
   "cell_type": "code",
   "execution_count": 3,
   "metadata": {},
   "outputs": [
    {
     "data": {
      "text/plain": [
       "'07/24/2021'"
      ]
     },
     "execution_count": 3,
     "metadata": {},
     "output_type": "execute_result"
    }
   ],
   "source": [
    "yesterday = date.today() - timedelta(days=1)\n",
    "day = yesterday.strftime(\"%m/%d/%Y\")\n",
    "day "
   ]
  },
  {
   "cell_type": "markdown",
   "metadata": {},
   "source": [
    "# TREATMENT AND ANALYSIS OF CONFIRMED CASES DATABASE"
   ]
  },
  {
   "cell_type": "code",
   "execution_count": 4,
   "metadata": {},
   "outputs": [
    {
     "data": {
      "text/html": [
       "<div>\n",
       "<style scoped>\n",
       "    .dataframe tbody tr th:only-of-type {\n",
       "        vertical-align: middle;\n",
       "    }\n",
       "\n",
       "    .dataframe tbody tr th {\n",
       "        vertical-align: top;\n",
       "    }\n",
       "\n",
       "    .dataframe thead th {\n",
       "        text-align: right;\n",
       "    }\n",
       "</style>\n",
       "<table border=\"1\" class=\"dataframe\">\n",
       "  <thead>\n",
       "    <tr style=\"text-align: right;\">\n",
       "      <th></th>\n",
       "      <th>Province/State</th>\n",
       "      <th>Country/Region</th>\n",
       "      <th>Lat</th>\n",
       "      <th>Long</th>\n",
       "      <th>1/22/20</th>\n",
       "      <th>1/23/20</th>\n",
       "      <th>1/24/20</th>\n",
       "      <th>1/25/20</th>\n",
       "      <th>1/26/20</th>\n",
       "      <th>1/27/20</th>\n",
       "      <th>...</th>\n",
       "      <th>7/15/21</th>\n",
       "      <th>7/16/21</th>\n",
       "      <th>7/17/21</th>\n",
       "      <th>7/18/21</th>\n",
       "      <th>7/19/21</th>\n",
       "      <th>7/20/21</th>\n",
       "      <th>7/21/21</th>\n",
       "      <th>7/22/21</th>\n",
       "      <th>7/23/21</th>\n",
       "      <th>7/24/21</th>\n",
       "    </tr>\n",
       "  </thead>\n",
       "  <tbody>\n",
       "    <tr>\n",
       "      <th>0</th>\n",
       "      <td>NaN</td>\n",
       "      <td>Afghanistan</td>\n",
       "      <td>33.93911</td>\n",
       "      <td>67.709953</td>\n",
       "      <td>0</td>\n",
       "      <td>0</td>\n",
       "      <td>0</td>\n",
       "      <td>0</td>\n",
       "      <td>0</td>\n",
       "      <td>0</td>\n",
       "      <td>...</td>\n",
       "      <td>137853</td>\n",
       "      <td>137853</td>\n",
       "      <td>137853</td>\n",
       "      <td>137853</td>\n",
       "      <td>141489</td>\n",
       "      <td>142414</td>\n",
       "      <td>142414</td>\n",
       "      <td>143183</td>\n",
       "      <td>143439</td>\n",
       "      <td>143439</td>\n",
       "    </tr>\n",
       "    <tr>\n",
       "      <th>1</th>\n",
       "      <td>NaN</td>\n",
       "      <td>Albania</td>\n",
       "      <td>41.15330</td>\n",
       "      <td>20.168300</td>\n",
       "      <td>0</td>\n",
       "      <td>0</td>\n",
       "      <td>0</td>\n",
       "      <td>0</td>\n",
       "      <td>0</td>\n",
       "      <td>0</td>\n",
       "      <td>...</td>\n",
       "      <td>132629</td>\n",
       "      <td>132647</td>\n",
       "      <td>132665</td>\n",
       "      <td>132686</td>\n",
       "      <td>132697</td>\n",
       "      <td>132740</td>\n",
       "      <td>132763</td>\n",
       "      <td>132797</td>\n",
       "      <td>132828</td>\n",
       "      <td>132853</td>\n",
       "    </tr>\n",
       "    <tr>\n",
       "      <th>2</th>\n",
       "      <td>NaN</td>\n",
       "      <td>Algeria</td>\n",
       "      <td>28.03390</td>\n",
       "      <td>1.659600</td>\n",
       "      <td>0</td>\n",
       "      <td>0</td>\n",
       "      <td>0</td>\n",
       "      <td>0</td>\n",
       "      <td>0</td>\n",
       "      <td>0</td>\n",
       "      <td>...</td>\n",
       "      <td>149906</td>\n",
       "      <td>151103</td>\n",
       "      <td>152210</td>\n",
       "      <td>153309</td>\n",
       "      <td>154486</td>\n",
       "      <td>155784</td>\n",
       "      <td>157005</td>\n",
       "      <td>158213</td>\n",
       "      <td>159563</td>\n",
       "      <td>160868</td>\n",
       "    </tr>\n",
       "    <tr>\n",
       "      <th>3</th>\n",
       "      <td>NaN</td>\n",
       "      <td>Andorra</td>\n",
       "      <td>42.50630</td>\n",
       "      <td>1.521800</td>\n",
       "      <td>0</td>\n",
       "      <td>0</td>\n",
       "      <td>0</td>\n",
       "      <td>0</td>\n",
       "      <td>0</td>\n",
       "      <td>0</td>\n",
       "      <td>...</td>\n",
       "      <td>14239</td>\n",
       "      <td>14273</td>\n",
       "      <td>14273</td>\n",
       "      <td>14273</td>\n",
       "      <td>14359</td>\n",
       "      <td>14379</td>\n",
       "      <td>14379</td>\n",
       "      <td>14464</td>\n",
       "      <td>14498</td>\n",
       "      <td>14498</td>\n",
       "    </tr>\n",
       "    <tr>\n",
       "      <th>4</th>\n",
       "      <td>NaN</td>\n",
       "      <td>Angola</td>\n",
       "      <td>-11.20270</td>\n",
       "      <td>17.873900</td>\n",
       "      <td>0</td>\n",
       "      <td>0</td>\n",
       "      <td>0</td>\n",
       "      <td>0</td>\n",
       "      <td>0</td>\n",
       "      <td>0</td>\n",
       "      <td>...</td>\n",
       "      <td>40530</td>\n",
       "      <td>40631</td>\n",
       "      <td>40707</td>\n",
       "      <td>40805</td>\n",
       "      <td>40906</td>\n",
       "      <td>41061</td>\n",
       "      <td>41227</td>\n",
       "      <td>41405</td>\n",
       "      <td>41405</td>\n",
       "      <td>41736</td>\n",
       "    </tr>\n",
       "  </tbody>\n",
       "</table>\n",
       "<p>5 rows × 554 columns</p>\n",
       "</div>"
      ],
      "text/plain": [
       "  Province/State Country/Region       Lat       Long  1/22/20  1/23/20  \\\n",
       "0            NaN    Afghanistan  33.93911  67.709953        0        0   \n",
       "1            NaN        Albania  41.15330  20.168300        0        0   \n",
       "2            NaN        Algeria  28.03390   1.659600        0        0   \n",
       "3            NaN        Andorra  42.50630   1.521800        0        0   \n",
       "4            NaN         Angola -11.20270  17.873900        0        0   \n",
       "\n",
       "   1/24/20  1/25/20  1/26/20  1/27/20  ...  7/15/21  7/16/21  7/17/21  \\\n",
       "0        0        0        0        0  ...   137853   137853   137853   \n",
       "1        0        0        0        0  ...   132629   132647   132665   \n",
       "2        0        0        0        0  ...   149906   151103   152210   \n",
       "3        0        0        0        0  ...    14239    14273    14273   \n",
       "4        0        0        0        0  ...    40530    40631    40707   \n",
       "\n",
       "   7/18/21  7/19/21  7/20/21  7/21/21  7/22/21  7/23/21  7/24/21  \n",
       "0   137853   141489   142414   142414   143183   143439   143439  \n",
       "1   132686   132697   132740   132763   132797   132828   132853  \n",
       "2   153309   154486   155784   157005   158213   159563   160868  \n",
       "3    14273    14359    14379    14379    14464    14498    14498  \n",
       "4    40805    40906    41061    41227    41405    41405    41736  \n",
       "\n",
       "[5 rows x 554 columns]"
      ]
     },
     "execution_count": 4,
     "metadata": {},
     "output_type": "execute_result"
    }
   ],
   "source": [
    "confirmed.head()"
   ]
  },
  {
   "cell_type": "code",
   "execution_count": 5,
   "metadata": {},
   "outputs": [
    {
     "name": "stdout",
     "output_type": "stream",
     "text": [
      "The Dataset has 279 lines and 554 columns\n"
     ]
    }
   ],
   "source": [
    "print('The Dataset has {} lines and {} columns'.format(confirmed.shape[0],confirmed.shape[1]))"
   ]
  },
  {
   "cell_type": "markdown",
   "metadata": {},
   "source": [
    "<p>Let's see the countries that we have in the DF to choose who we'll analysis</p>"
   ]
  },
  {
   "cell_type": "code",
   "execution_count": 6,
   "metadata": {},
   "outputs": [
    {
     "name": "stdout",
     "output_type": "stream",
     "text": [
      "['Afghanistan' 'Albania' 'Algeria' 'Andorra' 'Angola'\n",
      " 'Antigua and Barbuda' 'Argentina' 'Armenia' 'Australia' 'Austria'\n",
      " 'Azerbaijan' 'Bahamas' 'Bahrain' 'Bangladesh' 'Barbados' 'Belarus'\n",
      " 'Belgium' 'Belize' 'Benin' 'Bhutan' 'Bolivia' 'Bosnia and Herzegovina'\n",
      " 'Botswana' 'Brazil' 'Brunei' 'Bulgaria' 'Burkina Faso' 'Burma' 'Burundi'\n",
      " 'Cabo Verde' 'Cambodia' 'Cameroon' 'Canada' 'Central African Republic'\n",
      " 'Chad' 'Chile' 'China' 'Colombia' 'Comoros' 'Congo (Brazzaville)'\n",
      " 'Congo (Kinshasa)' 'Costa Rica' \"Cote d'Ivoire\" 'Croatia' 'Cuba' 'Cyprus'\n",
      " 'Czechia' 'Denmark' 'Diamond Princess' 'Djibouti' 'Dominica'\n",
      " 'Dominican Republic' 'Ecuador' 'Egypt' 'El Salvador' 'Equatorial Guinea'\n",
      " 'Eritrea' 'Estonia' 'Eswatini' 'Ethiopia' 'Fiji' 'Finland' 'France'\n",
      " 'Gabon' 'Gambia' 'Georgia' 'Germany' 'Ghana' 'Greece' 'Grenada'\n",
      " 'Guatemala' 'Guinea' 'Guinea-Bissau' 'Guyana' 'Haiti' 'Holy See'\n",
      " 'Honduras' 'Hungary' 'Iceland' 'India' 'Indonesia' 'Iran' 'Iraq'\n",
      " 'Ireland' 'Israel' 'Italy' 'Jamaica' 'Japan' 'Jordan' 'Kazakhstan'\n",
      " 'Kenya' 'Kiribati' 'Korea, South' 'Kosovo' 'Kuwait' 'Kyrgyzstan' 'Laos'\n",
      " 'Latvia' 'Lebanon' 'Lesotho' 'Liberia' 'Libya' 'Liechtenstein'\n",
      " 'Lithuania' 'Luxembourg' 'MS Zaandam' 'Madagascar' 'Malawi' 'Malaysia'\n",
      " 'Maldives' 'Mali' 'Malta' 'Marshall Islands' 'Mauritania' 'Mauritius'\n",
      " 'Mexico' 'Micronesia' 'Moldova' 'Monaco' 'Mongolia' 'Montenegro'\n",
      " 'Morocco' 'Mozambique' 'Namibia' 'Nepal' 'Netherlands' 'New Zealand'\n",
      " 'Nicaragua' 'Niger' 'Nigeria' 'North Macedonia' 'Norway' 'Oman'\n",
      " 'Pakistan' 'Palau' 'Panama' 'Papua New Guinea' 'Paraguay' 'Peru'\n",
      " 'Philippines' 'Poland' 'Portugal' 'Qatar' 'Romania' 'Russia' 'Rwanda'\n",
      " 'Saint Kitts and Nevis' 'Saint Lucia' 'Saint Vincent and the Grenadines'\n",
      " 'Samoa' 'San Marino' 'Sao Tome and Principe' 'Saudi Arabia' 'Senegal'\n",
      " 'Serbia' 'Seychelles' 'Sierra Leone' 'Singapore' 'Slovakia' 'Slovenia'\n",
      " 'Solomon Islands' 'Somalia' 'South Africa' 'South Sudan' 'Spain'\n",
      " 'Sri Lanka' 'Sudan' 'Summer Olympics 2020' 'Suriname' 'Sweden'\n",
      " 'Switzerland' 'Syria' 'Taiwan*' 'Tajikistan' 'Tanzania' 'Thailand'\n",
      " 'Timor-Leste' 'Togo' 'Trinidad and Tobago' 'Tunisia' 'Turkey' 'US'\n",
      " 'Uganda' 'Ukraine' 'United Arab Emirates' 'United Kingdom' 'Uruguay'\n",
      " 'Uzbekistan' 'Vanuatu' 'Venezuela' 'Vietnam' 'West Bank and Gaza' 'Yemen'\n",
      " 'Zambia' 'Zimbabwe']\n"
     ]
    }
   ],
   "source": [
    "print(confirmed['Country/Region'].unique())"
   ]
  },
  {
   "cell_type": "code",
   "execution_count": 7,
   "metadata": {},
   "outputs": [
    {
     "name": "stdout",
     "output_type": "stream",
     "text": [
      "[nan 'Australian Capital Territory' 'New South Wales' 'Northern Territory'\n",
      " 'Queensland' 'South Australia' 'Tasmania' 'Victoria' 'Western Australia'\n",
      " 'Alberta' 'British Columbia' 'Diamond Princess' 'Grand Princess'\n",
      " 'Manitoba' 'New Brunswick' 'Newfoundland and Labrador'\n",
      " 'Northwest Territories' 'Nova Scotia' 'Nunavut' 'Ontario'\n",
      " 'Prince Edward Island' 'Quebec' 'Repatriated Travellers' 'Saskatchewan'\n",
      " 'Yukon' 'Anhui' 'Beijing' 'Chongqing' 'Fujian' 'Gansu' 'Guangdong'\n",
      " 'Guangxi' 'Guizhou' 'Hainan' 'Hebei' 'Heilongjiang' 'Henan' 'Hong Kong'\n",
      " 'Hubei' 'Hunan' 'Inner Mongolia' 'Jiangsu' 'Jiangxi' 'Jilin' 'Liaoning'\n",
      " 'Macau' 'Ningxia' 'Qinghai' 'Shaanxi' 'Shandong' 'Shanghai' 'Shanxi'\n",
      " 'Sichuan' 'Tianjin' 'Tibet' 'Unknown' 'Xinjiang' 'Yunnan' 'Zhejiang'\n",
      " 'Faroe Islands' 'Greenland' 'French Guiana' 'French Polynesia'\n",
      " 'Guadeloupe' 'Martinique' 'Mayotte' 'New Caledonia' 'Reunion'\n",
      " 'Saint Barthelemy' 'Saint Pierre and Miquelon' 'St Martin'\n",
      " 'Wallis and Futuna' 'Aruba' 'Bonaire, Sint Eustatius and Saba' 'Curacao'\n",
      " 'Sint Maarten' 'Cook Islands' 'Anguilla' 'Bermuda'\n",
      " 'British Virgin Islands' 'Cayman Islands' 'Channel Islands'\n",
      " 'Falkland Islands (Malvinas)' 'Gibraltar' 'Isle of Man' 'Montserrat'\n",
      " 'Saint Helena, Ascension and Tristan da Cunha' 'Turks and Caicos Islands']\n"
     ]
    }
   ],
   "source": [
    "print(confirmed['Province/State'].unique())"
   ]
  },
  {
   "cell_type": "code",
   "execution_count": 8,
   "metadata": {},
   "outputs": [
    {
     "data": {
      "text/plain": [
       "192"
      ]
     },
     "execution_count": 8,
     "metadata": {},
     "output_type": "execute_result"
    }
   ],
   "source": [
    "confirmed['Province/State'].isna().sum()"
   ]
  },
  {
   "cell_type": "markdown",
   "metadata": {},
   "source": [
    "<p>To see the total of confirmed cases that we have in each country by day, I'll group by country</p>"
   ]
  },
  {
   "cell_type": "code",
   "execution_count": 9,
   "metadata": {},
   "outputs": [
    {
     "data": {
      "text/html": [
       "<div>\n",
       "<style scoped>\n",
       "    .dataframe tbody tr th:only-of-type {\n",
       "        vertical-align: middle;\n",
       "    }\n",
       "\n",
       "    .dataframe tbody tr th {\n",
       "        vertical-align: top;\n",
       "    }\n",
       "\n",
       "    .dataframe thead th {\n",
       "        text-align: right;\n",
       "    }\n",
       "</style>\n",
       "<table border=\"1\" class=\"dataframe\">\n",
       "  <thead>\n",
       "    <tr style=\"text-align: right;\">\n",
       "      <th></th>\n",
       "      <th>Lat</th>\n",
       "      <th>Long</th>\n",
       "      <th>1/22/20</th>\n",
       "      <th>1/23/20</th>\n",
       "      <th>1/24/20</th>\n",
       "      <th>1/25/20</th>\n",
       "      <th>1/26/20</th>\n",
       "      <th>1/27/20</th>\n",
       "      <th>1/28/20</th>\n",
       "      <th>1/29/20</th>\n",
       "      <th>...</th>\n",
       "      <th>7/15/21</th>\n",
       "      <th>7/16/21</th>\n",
       "      <th>7/17/21</th>\n",
       "      <th>7/18/21</th>\n",
       "      <th>7/19/21</th>\n",
       "      <th>7/20/21</th>\n",
       "      <th>7/21/21</th>\n",
       "      <th>7/22/21</th>\n",
       "      <th>7/23/21</th>\n",
       "      <th>7/24/21</th>\n",
       "    </tr>\n",
       "    <tr>\n",
       "      <th>Country/Region</th>\n",
       "      <th></th>\n",
       "      <th></th>\n",
       "      <th></th>\n",
       "      <th></th>\n",
       "      <th></th>\n",
       "      <th></th>\n",
       "      <th></th>\n",
       "      <th></th>\n",
       "      <th></th>\n",
       "      <th></th>\n",
       "      <th></th>\n",
       "      <th></th>\n",
       "      <th></th>\n",
       "      <th></th>\n",
       "      <th></th>\n",
       "      <th></th>\n",
       "      <th></th>\n",
       "      <th></th>\n",
       "      <th></th>\n",
       "      <th></th>\n",
       "      <th></th>\n",
       "    </tr>\n",
       "  </thead>\n",
       "  <tbody>\n",
       "    <tr>\n",
       "      <th>Afghanistan</th>\n",
       "      <td>33.93911</td>\n",
       "      <td>67.709953</td>\n",
       "      <td>0</td>\n",
       "      <td>0</td>\n",
       "      <td>0</td>\n",
       "      <td>0</td>\n",
       "      <td>0</td>\n",
       "      <td>0</td>\n",
       "      <td>0</td>\n",
       "      <td>0</td>\n",
       "      <td>...</td>\n",
       "      <td>137853</td>\n",
       "      <td>137853</td>\n",
       "      <td>137853</td>\n",
       "      <td>137853</td>\n",
       "      <td>141489</td>\n",
       "      <td>142414</td>\n",
       "      <td>142414</td>\n",
       "      <td>143183</td>\n",
       "      <td>143439</td>\n",
       "      <td>143439</td>\n",
       "    </tr>\n",
       "    <tr>\n",
       "      <th>Albania</th>\n",
       "      <td>41.15330</td>\n",
       "      <td>20.168300</td>\n",
       "      <td>0</td>\n",
       "      <td>0</td>\n",
       "      <td>0</td>\n",
       "      <td>0</td>\n",
       "      <td>0</td>\n",
       "      <td>0</td>\n",
       "      <td>0</td>\n",
       "      <td>0</td>\n",
       "      <td>...</td>\n",
       "      <td>132629</td>\n",
       "      <td>132647</td>\n",
       "      <td>132665</td>\n",
       "      <td>132686</td>\n",
       "      <td>132697</td>\n",
       "      <td>132740</td>\n",
       "      <td>132763</td>\n",
       "      <td>132797</td>\n",
       "      <td>132828</td>\n",
       "      <td>132853</td>\n",
       "    </tr>\n",
       "    <tr>\n",
       "      <th>Algeria</th>\n",
       "      <td>28.03390</td>\n",
       "      <td>1.659600</td>\n",
       "      <td>0</td>\n",
       "      <td>0</td>\n",
       "      <td>0</td>\n",
       "      <td>0</td>\n",
       "      <td>0</td>\n",
       "      <td>0</td>\n",
       "      <td>0</td>\n",
       "      <td>0</td>\n",
       "      <td>...</td>\n",
       "      <td>149906</td>\n",
       "      <td>151103</td>\n",
       "      <td>152210</td>\n",
       "      <td>153309</td>\n",
       "      <td>154486</td>\n",
       "      <td>155784</td>\n",
       "      <td>157005</td>\n",
       "      <td>158213</td>\n",
       "      <td>159563</td>\n",
       "      <td>160868</td>\n",
       "    </tr>\n",
       "    <tr>\n",
       "      <th>Andorra</th>\n",
       "      <td>42.50630</td>\n",
       "      <td>1.521800</td>\n",
       "      <td>0</td>\n",
       "      <td>0</td>\n",
       "      <td>0</td>\n",
       "      <td>0</td>\n",
       "      <td>0</td>\n",
       "      <td>0</td>\n",
       "      <td>0</td>\n",
       "      <td>0</td>\n",
       "      <td>...</td>\n",
       "      <td>14239</td>\n",
       "      <td>14273</td>\n",
       "      <td>14273</td>\n",
       "      <td>14273</td>\n",
       "      <td>14359</td>\n",
       "      <td>14379</td>\n",
       "      <td>14379</td>\n",
       "      <td>14464</td>\n",
       "      <td>14498</td>\n",
       "      <td>14498</td>\n",
       "    </tr>\n",
       "    <tr>\n",
       "      <th>Angola</th>\n",
       "      <td>-11.20270</td>\n",
       "      <td>17.873900</td>\n",
       "      <td>0</td>\n",
       "      <td>0</td>\n",
       "      <td>0</td>\n",
       "      <td>0</td>\n",
       "      <td>0</td>\n",
       "      <td>0</td>\n",
       "      <td>0</td>\n",
       "      <td>0</td>\n",
       "      <td>...</td>\n",
       "      <td>40530</td>\n",
       "      <td>40631</td>\n",
       "      <td>40707</td>\n",
       "      <td>40805</td>\n",
       "      <td>40906</td>\n",
       "      <td>41061</td>\n",
       "      <td>41227</td>\n",
       "      <td>41405</td>\n",
       "      <td>41405</td>\n",
       "      <td>41736</td>\n",
       "    </tr>\n",
       "  </tbody>\n",
       "</table>\n",
       "<p>5 rows × 552 columns</p>\n",
       "</div>"
      ],
      "text/plain": [
       "                     Lat       Long  1/22/20  1/23/20  1/24/20  1/25/20  \\\n",
       "Country/Region                                                            \n",
       "Afghanistan     33.93911  67.709953        0        0        0        0   \n",
       "Albania         41.15330  20.168300        0        0        0        0   \n",
       "Algeria         28.03390   1.659600        0        0        0        0   \n",
       "Andorra         42.50630   1.521800        0        0        0        0   \n",
       "Angola         -11.20270  17.873900        0        0        0        0   \n",
       "\n",
       "                1/26/20  1/27/20  1/28/20  1/29/20  ...  7/15/21  7/16/21  \\\n",
       "Country/Region                                      ...                     \n",
       "Afghanistan           0        0        0        0  ...   137853   137853   \n",
       "Albania               0        0        0        0  ...   132629   132647   \n",
       "Algeria               0        0        0        0  ...   149906   151103   \n",
       "Andorra               0        0        0        0  ...    14239    14273   \n",
       "Angola                0        0        0        0  ...    40530    40631   \n",
       "\n",
       "                7/17/21  7/18/21  7/19/21  7/20/21  7/21/21  7/22/21  7/23/21  \\\n",
       "Country/Region                                                                  \n",
       "Afghanistan      137853   137853   141489   142414   142414   143183   143439   \n",
       "Albania          132665   132686   132697   132740   132763   132797   132828   \n",
       "Algeria          152210   153309   154486   155784   157005   158213   159563   \n",
       "Andorra           14273    14273    14359    14379    14379    14464    14498   \n",
       "Angola            40707    40805    40906    41061    41227    41405    41405   \n",
       "\n",
       "                7/24/21  \n",
       "Country/Region           \n",
       "Afghanistan      143439  \n",
       "Albania          132853  \n",
       "Algeria          160868  \n",
       "Andorra           14498  \n",
       "Angola            41736  \n",
       "\n",
       "[5 rows x 552 columns]"
      ]
     },
     "execution_count": 9,
     "metadata": {},
     "output_type": "execute_result"
    }
   ],
   "source": [
    "covid19_confirmed_group_country = confirmed.groupby('Country/Region').sum()\n",
    "covid19_confirmed_group_country.head()"
   ]
  },
  {
   "cell_type": "markdown",
   "metadata": {},
   "source": [
    "<p>Now I'll see how many confirmed cases has in Brazil</p>"
   ]
  },
  {
   "cell_type": "code",
   "execution_count": 11,
   "metadata": {},
   "outputs": [
    {
     "name": "stdout",
     "output_type": "stream",
     "text": [
      "Brazil has 19670534.0 coonfirmed cases by Covid 19 in 07/24/2021\n"
     ]
    }
   ],
   "source": [
    "print('Brazil has {} coonfirmed cases by Covid 19 in {}'.format(covid19_confirmed_group_country.loc['Brazil'][2:].describe()[7],\n",
    "                                                                day))"
   ]
  },
  {
   "cell_type": "code",
   "execution_count": 12,
   "metadata": {},
   "outputs": [
    {
     "data": {
      "image/png": "[encoded data removed]",
      "text/plain": [
       "<Figure size 1080x360 with 1 Axes>"
      ]
     },
     "metadata": {
      "needs_background": "light"
     },
     "output_type": "display_data"
    }
   ],
   "source": [
    "plt.figure(figsize = (15,5))\n",
    "covid19_confirmed_group_country.loc['Brazil'][2:].plot()\n",
    "plt.title('Confirmed Covid 19 cases in Brazil by day')\n",
    "plt.show()"
   ]
  },
  {
   "cell_type": "code",
   "execution_count": 13,
   "metadata": {},
   "outputs": [
    {
     "name": "stdout",
     "output_type": "stream",
     "text": [
      "US has 34428050.0 coonfirmed cases by Covid 19 in 07/24/2021\n"
     ]
    }
   ],
   "source": [
    "print('US has {} coonfirmed cases by Covid 19 in {}'.format(covid19_confirmed_group_country.loc['US'][2:].describe()[7],\n",
    "                                                                day))"
   ]
  },
  {
   "cell_type": "code",
   "execution_count": 14,
   "metadata": {},
   "outputs": [
    {
     "data": {
      "image/png": "[encoded data removed]",
      "text/plain": [
       "<Figure size 1080x360 with 1 Axes>"
      ]
     },
     "metadata": {
      "needs_background": "light"
     },
     "output_type": "display_data"
    }
   ],
   "source": [
    "plt.figure(figsize = (15,5))\n",
    "covid19_confirmed_group_country.loc['US'][2:].plot()\n",
    "plt.title('Confirmed Covid 19 cases in US by day')\n",
    "plt.show()"
   ]
  },
  {
   "cell_type": "code",
   "execution_count": 15,
   "metadata": {},
   "outputs": [
    {
     "name": "stdout",
     "output_type": "stream",
     "text": [
      "Brazil has 38091.0 new cases by Covid 19 in 07/24/2021\n"
     ]
    }
   ],
   "source": [
    "new_br = covid19_confirmed_group_country.loc['Brazil'][2:].diff().iloc[-1]\n",
    "print('Brazil has {} new cases by Covid 19 in {}'.format(new_br,day))"
   ]
  },
  {
   "cell_type": "code",
   "execution_count": 16,
   "metadata": {
    "scrolled": true
   },
   "outputs": [
    {
     "data": {
      "text/plain": [
       "<AxesSubplot:>"
      ]
     },
     "execution_count": 16,
     "metadata": {},
     "output_type": "execute_result"
    },
    {
     "data": {
      "image/png": "[encoded data removed]",
      "text/plain": [
       "<Figure size 1080x360 with 1 Axes>"
      ]
     },
     "metadata": {
      "needs_background": "light"
     },
     "output_type": "display_data"
    }
   ],
   "source": [
    "new_cases_brazil = covid19_confirmed_group_country.loc['Brazil'][2:].diff()\n",
    "plt.figure(figsize = (15,5))\n",
    "new_cases_brazil.plot()"
   ]
  },
  {
   "cell_type": "code",
   "execution_count": 17,
   "metadata": {},
   "outputs": [
    {
     "name": "stdout",
     "output_type": "stream",
     "text": [
      "US has 27395.0 new cases by Covid 19 in 07/24/2021\n"
     ]
    }
   ],
   "source": [
    "new_us = covid19_confirmed_group_country.loc['US'][2:].diff().iloc[-1]\n",
    "print('US has {} new cases by Covid 19 in {}'.format(new_us,day))"
   ]
  },
  {
   "cell_type": "code",
   "execution_count": 18,
   "metadata": {},
   "outputs": [],
   "source": [
    "def percentage(new_cases_difference):\n",
    "    cases = float(new_cases_difference)\n",
    "    if cases > 100:\n",
    "        percent = cases-100\n",
    "        count= str('less new cases than')\n",
    "    else:\n",
    "        percent = cases\n",
    "        count= str('more new cases than')\n",
    "    return percent,count"
   ]
  },
  {
   "cell_type": "code",
   "execution_count": 19,
   "metadata": {},
   "outputs": [
    {
     "name": "stdout",
     "output_type": "stream",
     "text": [
      "Brazil has 71.92% more new cases than US in\n"
     ]
    }
   ],
   "source": [
    "new_cases_difference = float(round((new_us*100)/new_br,2))\n",
    "return_percentage = percentage(new_cases_difference)\n",
    "print('Brazil has {}% {} US in'.format(return_percentage[0],return_percentage[1],day))"
   ]
  },
  {
   "cell_type": "code",
   "execution_count": 20,
   "metadata": {},
   "outputs": [
    {
     "data": {
      "text/plain": [
       "'03/27/2021'"
      ]
     },
     "execution_count": 20,
     "metadata": {},
     "output_type": "execute_result"
    }
   ],
   "source": [
    "yesterday_120 = date.today() - timedelta(days=120)\n",
    "day_120 = yesterday_120.strftime(\"%m/%d/%Y\")\n",
    "day_120 "
   ]
  },
  {
   "cell_type": "code",
   "execution_count": 21,
   "metadata": {},
   "outputs": [
    {
     "name": "stdout",
     "output_type": "stream",
     "text": [
      "Brazil has 85948.0 new cases by Covid 19 in 03/27/2021\n"
     ]
    }
   ],
   "source": [
    "new_br = covid19_confirmed_group_country.loc['Brazil'][2:].diff().iloc[-120]\n",
    "print('Brazil has {} new cases by Covid 19 in {}'.format(new_br,day_120))"
   ]
  },
  {
   "cell_type": "code",
   "execution_count": 22,
   "metadata": {},
   "outputs": [
    {
     "name": "stdout",
     "output_type": "stream",
     "text": [
      "US has 62842.0 new cases by Covid 19 in 03/27/2021\n"
     ]
    }
   ],
   "source": [
    "new_us = covid19_confirmed_group_country.loc['US'][2:].diff().iloc[-120]\n",
    "print('US has {} new cases by Covid 19 in {}'.format(new_us,day_120))"
   ]
  },
  {
   "cell_type": "code",
   "execution_count": 23,
   "metadata": {},
   "outputs": [
    {
     "name": "stdout",
     "output_type": "stream",
     "text": [
      "Brazil has 73.12% more new cases than US in 03/27/2021\n"
     ]
    }
   ],
   "source": [
    "new_cases_difference = float(round((new_us*100)/new_br,2))\n",
    "return_percentage = percentage(new_cases_difference)\n",
    "print('Brazil has {}% {} US in {}'.format(round(return_percentage[0],2),return_percentage[1],day_120))"
   ]
  },
  {
   "cell_type": "code",
   "execution_count": 24,
   "metadata": {},
   "outputs": [
    {
     "name": "stdout",
     "output_type": "stream",
     "text": [
      "US has 62842.0 new cases by Covid 19 in 07/24/2021\n"
     ]
    }
   ],
   "source": [
    "print('US has {} new cases by Covid 19 in {}'.format(new_us,day))"
   ]
  },
  {
   "cell_type": "code",
   "execution_count": 25,
   "metadata": {},
   "outputs": [
    {
     "data": {
      "text/plain": [
       "<AxesSubplot:>"
      ]
     },
     "execution_count": 25,
     "metadata": {},
     "output_type": "execute_result"
    },
    {
     "data": {
      "image/png": "[encoded data removed]",
      "text/plain": [
       "<Figure size 1080x360 with 1 Axes>"
      ]
     },
     "metadata": {
      "needs_background": "light"
     },
     "output_type": "display_data"
    }
   ],
   "source": [
    "new_cases_us = covid19_confirmed_group_country.loc['US'][2:].diff().dropna()\n",
    "plt.figure(figsize = (15,5))\n",
    "new_cases_us.plot()"
   ]
  },
  {
   "cell_type": "code",
   "execution_count": 26,
   "metadata": {},
   "outputs": [
    {
     "data": {
      "text/plain": [
       "count       549.000000\n",
       "mean      62710.471767\n",
       "std       62999.098732\n",
       "min           0.000000\n",
       "25%       22739.000000\n",
       "50%       44251.000000\n",
       "75%       70139.000000\n",
       "max      300462.000000\n",
       "Name: US, dtype: float64"
      ]
     },
     "execution_count": 26,
     "metadata": {},
     "output_type": "execute_result"
    }
   ],
   "source": [
    "new_cases_us.describe()"
   ]
  },
  {
   "cell_type": "code",
   "execution_count": 27,
   "metadata": {
    "scrolled": true
   },
   "outputs": [],
   "source": [
    "last_date = '6/26/21'"
   ]
  },
  {
   "cell_type": "code",
   "execution_count": 28,
   "metadata": {},
   "outputs": [
    {
     "data": {
      "text/plain": [
       "<AxesSubplot:xlabel='Country/Region'>"
      ]
     },
     "execution_count": 28,
     "metadata": {},
     "output_type": "execute_result"
    },
    {
     "data": {
      "image/png": "[encoded data removed]",
      "text/plain": [
       "<Figure size 1080x360 with 1 Axes>"
      ]
     },
     "metadata": {
      "needs_background": "light"
     },
     "output_type": "display_data"
    }
   ],
   "source": [
    "plt.figure(figsize = (15,5))\n",
    "covid19_confirmed_group_country[last_date].sort_values(ascending = False)[0:15].plot(kind = 'bar')"
   ]
  },
  {
   "cell_type": "markdown",
   "metadata": {},
   "source": [
    "# TREATMENT AND ANALYSIS OF DEATHS DATABASE"
   ]
  },
  {
   "cell_type": "code",
   "execution_count": 29,
   "metadata": {},
   "outputs": [],
   "source": [
    "last_date_deaths = '6/26/21'"
   ]
  },
  {
   "cell_type": "code",
   "execution_count": 30,
   "metadata": {},
   "outputs": [
    {
     "data": {
      "text/html": [
       "<div>\n",
       "<style scoped>\n",
       "    .dataframe tbody tr th:only-of-type {\n",
       "        vertical-align: middle;\n",
       "    }\n",
       "\n",
       "    .dataframe tbody tr th {\n",
       "        vertical-align: top;\n",
       "    }\n",
       "\n",
       "    .dataframe thead th {\n",
       "        text-align: right;\n",
       "    }\n",
       "</style>\n",
       "<table border=\"1\" class=\"dataframe\">\n",
       "  <thead>\n",
       "    <tr style=\"text-align: right;\">\n",
       "      <th></th>\n",
       "      <th>Province/State</th>\n",
       "      <th>Country/Region</th>\n",
       "      <th>Lat</th>\n",
       "      <th>Long</th>\n",
       "      <th>1/22/20</th>\n",
       "      <th>1/23/20</th>\n",
       "      <th>1/24/20</th>\n",
       "      <th>1/25/20</th>\n",
       "      <th>1/26/20</th>\n",
       "      <th>1/27/20</th>\n",
       "      <th>...</th>\n",
       "      <th>7/15/21</th>\n",
       "      <th>7/16/21</th>\n",
       "      <th>7/17/21</th>\n",
       "      <th>7/18/21</th>\n",
       "      <th>7/19/21</th>\n",
       "      <th>7/20/21</th>\n",
       "      <th>7/21/21</th>\n",
       "      <th>7/22/21</th>\n",
       "      <th>7/23/21</th>\n",
       "      <th>7/24/21</th>\n",
       "    </tr>\n",
       "  </thead>\n",
       "  <tbody>\n",
       "    <tr>\n",
       "      <th>0</th>\n",
       "      <td>NaN</td>\n",
       "      <td>Afghanistan</td>\n",
       "      <td>33.93911</td>\n",
       "      <td>67.709953</td>\n",
       "      <td>0</td>\n",
       "      <td>0</td>\n",
       "      <td>0</td>\n",
       "      <td>0</td>\n",
       "      <td>0</td>\n",
       "      <td>0</td>\n",
       "      <td>...</td>\n",
       "      <td>5983</td>\n",
       "      <td>5983</td>\n",
       "      <td>5983</td>\n",
       "      <td>5983</td>\n",
       "      <td>6213</td>\n",
       "      <td>6266</td>\n",
       "      <td>6266</td>\n",
       "      <td>6325</td>\n",
       "      <td>6357</td>\n",
       "      <td>6357</td>\n",
       "    </tr>\n",
       "    <tr>\n",
       "      <th>1</th>\n",
       "      <td>NaN</td>\n",
       "      <td>Albania</td>\n",
       "      <td>41.15330</td>\n",
       "      <td>20.168300</td>\n",
       "      <td>0</td>\n",
       "      <td>0</td>\n",
       "      <td>0</td>\n",
       "      <td>0</td>\n",
       "      <td>0</td>\n",
       "      <td>0</td>\n",
       "      <td>...</td>\n",
       "      <td>2456</td>\n",
       "      <td>2456</td>\n",
       "      <td>2456</td>\n",
       "      <td>2456</td>\n",
       "      <td>2456</td>\n",
       "      <td>2456</td>\n",
       "      <td>2456</td>\n",
       "      <td>2456</td>\n",
       "      <td>2456</td>\n",
       "      <td>2456</td>\n",
       "    </tr>\n",
       "    <tr>\n",
       "      <th>2</th>\n",
       "      <td>NaN</td>\n",
       "      <td>Algeria</td>\n",
       "      <td>28.03390</td>\n",
       "      <td>1.659600</td>\n",
       "      <td>0</td>\n",
       "      <td>0</td>\n",
       "      <td>0</td>\n",
       "      <td>0</td>\n",
       "      <td>0</td>\n",
       "      <td>0</td>\n",
       "      <td>...</td>\n",
       "      <td>3895</td>\n",
       "      <td>3910</td>\n",
       "      <td>3922</td>\n",
       "      <td>3938</td>\n",
       "      <td>3956</td>\n",
       "      <td>3979</td>\n",
       "      <td>3994</td>\n",
       "      <td>4008</td>\n",
       "      <td>4026</td>\n",
       "      <td>4042</td>\n",
       "    </tr>\n",
       "    <tr>\n",
       "      <th>3</th>\n",
       "      <td>NaN</td>\n",
       "      <td>Andorra</td>\n",
       "      <td>42.50630</td>\n",
       "      <td>1.521800</td>\n",
       "      <td>0</td>\n",
       "      <td>0</td>\n",
       "      <td>0</td>\n",
       "      <td>0</td>\n",
       "      <td>0</td>\n",
       "      <td>0</td>\n",
       "      <td>...</td>\n",
       "      <td>127</td>\n",
       "      <td>127</td>\n",
       "      <td>127</td>\n",
       "      <td>127</td>\n",
       "      <td>127</td>\n",
       "      <td>127</td>\n",
       "      <td>127</td>\n",
       "      <td>127</td>\n",
       "      <td>127</td>\n",
       "      <td>127</td>\n",
       "    </tr>\n",
       "    <tr>\n",
       "      <th>4</th>\n",
       "      <td>NaN</td>\n",
       "      <td>Angola</td>\n",
       "      <td>-11.20270</td>\n",
       "      <td>17.873900</td>\n",
       "      <td>0</td>\n",
       "      <td>0</td>\n",
       "      <td>0</td>\n",
       "      <td>0</td>\n",
       "      <td>0</td>\n",
       "      <td>0</td>\n",
       "      <td>...</td>\n",
       "      <td>951</td>\n",
       "      <td>952</td>\n",
       "      <td>954</td>\n",
       "      <td>957</td>\n",
       "      <td>969</td>\n",
       "      <td>970</td>\n",
       "      <td>973</td>\n",
       "      <td>977</td>\n",
       "      <td>977</td>\n",
       "      <td>982</td>\n",
       "    </tr>\n",
       "  </tbody>\n",
       "</table>\n",
       "<p>5 rows × 554 columns</p>\n",
       "</div>"
      ],
      "text/plain": [
       "  Province/State Country/Region       Lat       Long  1/22/20  1/23/20  \\\n",
       "0            NaN    Afghanistan  33.93911  67.709953        0        0   \n",
       "1            NaN        Albania  41.15330  20.168300        0        0   \n",
       "2            NaN        Algeria  28.03390   1.659600        0        0   \n",
       "3            NaN        Andorra  42.50630   1.521800        0        0   \n",
       "4            NaN         Angola -11.20270  17.873900        0        0   \n",
       "\n",
       "   1/24/20  1/25/20  1/26/20  1/27/20  ...  7/15/21  7/16/21  7/17/21  \\\n",
       "0        0        0        0        0  ...     5983     5983     5983   \n",
       "1        0        0        0        0  ...     2456     2456     2456   \n",
       "2        0        0        0        0  ...     3895     3910     3922   \n",
       "3        0        0        0        0  ...      127      127      127   \n",
       "4        0        0        0        0  ...      951      952      954   \n",
       "\n",
       "   7/18/21  7/19/21  7/20/21  7/21/21  7/22/21  7/23/21  7/24/21  \n",
       "0     5983     6213     6266     6266     6325     6357     6357  \n",
       "1     2456     2456     2456     2456     2456     2456     2456  \n",
       "2     3938     3956     3979     3994     4008     4026     4042  \n",
       "3      127      127      127      127      127      127      127  \n",
       "4      957      969      970      973      977      977      982  \n",
       "\n",
       "[5 rows x 554 columns]"
      ]
     },
     "execution_count": 30,
     "metadata": {},
     "output_type": "execute_result"
    }
   ],
   "source": [
    "deaths.head()"
   ]
  },
  {
   "cell_type": "code",
   "execution_count": 31,
   "metadata": {},
   "outputs": [
    {
     "name": "stdout",
     "output_type": "stream",
     "text": [
      "The Dataset has 279 lines and 554 columns\n"
     ]
    }
   ],
   "source": [
    "print('The Dataset has {} lines and {} columns'.format(deaths.shape[0],deaths.shape[1]))"
   ]
  },
  {
   "cell_type": "code",
   "execution_count": 32,
   "metadata": {},
   "outputs": [],
   "source": [
    "deaths_group_countries = deaths.groupby('Country/Region').sum()"
   ]
  },
  {
   "cell_type": "code",
   "execution_count": 33,
   "metadata": {},
   "outputs": [
    {
     "name": "stdout",
     "output_type": "stream",
     "text": [
      "Brazil has 549448.0 deaths by Covid 19 in 07/24/2021\n"
     ]
    }
   ],
   "source": [
    "print('Brazil has {} deaths by Covid 19 in {}'.format(deaths_group_countries.loc['Brazil'][2:].describe()[7],day))"
   ]
  },
  {
   "cell_type": "code",
   "execution_count": 34,
   "metadata": {},
   "outputs": [
    {
     "data": {
      "image/png": "[encoded data removed]",
      "text/plain": [
       "<Figure size 1080x360 with 1 Axes>"
      ]
     },
     "metadata": {
      "needs_background": "light"
     },
     "output_type": "display_data"
    }
   ],
   "source": [
    "plt.figure(figsize=(15,5))\n",
    "deaths_group_countries.loc['Brazil'][2:].plot()\n",
    "plt.title('Total of Deaths by Covid 19 in Brazil',fontsize=20)\n",
    "plt.show()"
   ]
  },
  {
   "cell_type": "code",
   "execution_count": 35,
   "metadata": {},
   "outputs": [
    {
     "data": {
      "text/plain": [
       "<AxesSubplot:xlabel='Country/Region'>"
      ]
     },
     "execution_count": 35,
     "metadata": {},
     "output_type": "execute_result"
    },
    {
     "data": {
      "image/png": "[encoded data removed]",
      "text/plain": [
       "<Figure size 1080x360 with 1 Axes>"
      ]
     },
     "metadata": {
      "needs_background": "light"
     },
     "output_type": "display_data"
    }
   ],
   "source": [
    "plt.figure(figsize=(15,5))\n",
    "deaths_group_countries[last_date_deaths][2:].sort_values(ascending = False)[0:15].plot(kind = 'bar')"
   ]
  },
  {
   "cell_type": "markdown",
   "metadata": {},
   "source": [
    "### Brazil"
   ]
  },
  {
   "cell_type": "code",
   "execution_count": 36,
   "metadata": {},
   "outputs": [],
   "source": [
    "total_confirmed = float(covid19_confirmed_group_country.loc['Brazil'][2:].describe()[7])\n",
    "total_deaths = float(deaths_group_countries.loc['Brazil'][2:].describe()[7])"
   ]
  },
  {
   "cell_type": "code",
   "execution_count": 37,
   "metadata": {},
   "outputs": [
    {
     "name": "stdout",
     "output_type": "stream",
     "text": [
      "The total deaths in percentage by the total cases confirmed in Brazil is: 2.79%\n"
     ]
    }
   ],
   "source": [
    "total_deaths_percentage_br = (total_deaths * 100)/total_confirmed\n",
    "print('The total deaths in percentage by the total cases confirmed in Brazil is: {0:.2f}%'.format(total_deaths_percentage_br))"
   ]
  },
  {
   "cell_type": "markdown",
   "metadata": {},
   "source": [
    "### US"
   ]
  },
  {
   "cell_type": "code",
   "execution_count": 38,
   "metadata": {},
   "outputs": [],
   "source": [
    "total_confirmed = float(covid19_confirmed_group_country.loc['US'][2:].describe()[7])\n",
    "total_deaths = float(deaths_group_countries.loc['US'][2:].describe()[7])"
   ]
  },
  {
   "cell_type": "code",
   "execution_count": 39,
   "metadata": {},
   "outputs": [
    {
     "name": "stdout",
     "output_type": "stream",
     "text": [
      "The total deaths in percentage by the total cases confirmed in US is: 1.77%\n"
     ]
    }
   ],
   "source": [
    "total_deaths_percentage_us = (total_deaths * 100)/total_confirmed\n",
    "print('The total deaths in percentage by the total cases confirmed in US is: {0:.2f}%'.format(total_deaths_percentage_us))"
   ]
  },
  {
   "cell_type": "markdown",
   "metadata": {},
   "source": [
    "### Italy"
   ]
  },
  {
   "cell_type": "code",
   "execution_count": 40,
   "metadata": {},
   "outputs": [],
   "source": [
    "total_confirmed = float(covid19_confirmed_group_country.loc['Italy'][2:].describe()[7])\n",
    "total_deaths = float(deaths_group_countries.loc['Italy'][2:].describe()[7])"
   ]
  },
  {
   "cell_type": "code",
   "execution_count": 41,
   "metadata": {},
   "outputs": [
    {
     "name": "stdout",
     "output_type": "stream",
     "text": [
      "The total deaths in percentage by the total cases confirmed in Italy is: 2.97%\n"
     ]
    }
   ],
   "source": [
    "total_deaths_percentage_italy = (total_deaths * 100)/total_confirmed\n",
    "print('The total deaths in percentage by the total cases confirmed in Italy is: {0:.2f}%'.format(total_deaths_percentage_italy))"
   ]
  },
  {
   "cell_type": "markdown",
   "metadata": {},
   "source": [
    "### Argentina"
   ]
  },
  {
   "cell_type": "code",
   "execution_count": 42,
   "metadata": {},
   "outputs": [],
   "source": [
    "total_confirmed = float(covid19_confirmed_group_country.loc['Argentina'][2:].describe()[7])\n",
    "total_deaths = float(deaths_group_countries.loc['Argentina'][2:].describe()[7])"
   ]
  },
  {
   "cell_type": "code",
   "execution_count": 43,
   "metadata": {},
   "outputs": [
    {
     "name": "stdout",
     "output_type": "stream",
     "text": [
      "The total deaths in percentage by the total cases confirmed in Argentina is: 2.14%\n"
     ]
    }
   ],
   "source": [
    "total_deaths_percentage_ar = (total_deaths * 100)/total_confirmed\n",
    "print('The total deaths in percentage by the total cases confirmed in Argentina is: {0:.2f}%'.format(total_deaths_percentage_ar))"
   ]
  },
  {
   "cell_type": "markdown",
   "metadata": {},
   "source": [
    "### Qatar"
   ]
  },
  {
   "cell_type": "code",
   "execution_count": 44,
   "metadata": {},
   "outputs": [],
   "source": [
    "total_confirmed = float(covid19_confirmed_group_country.loc['Qatar'][2:].describe()[7])\n",
    "total_deaths = float(deaths_group_countries.loc['Qatar'][2:].describe()[7])"
   ]
  },
  {
   "cell_type": "code",
   "execution_count": 45,
   "metadata": {},
   "outputs": [
    {
     "name": "stdout",
     "output_type": "stream",
     "text": [
      "The total deaths in percentage by the total cases confirmed in Qatar is: 0.27%\n"
     ]
    }
   ],
   "source": [
    "total_deaths_percentage_qa = (total_deaths * 100)/total_confirmed\n",
    "print('The total deaths in percentage by the total cases confirmed in Qatar is: {0:.2f}%'.format(total_deaths_percentage_qa))"
   ]
  },
  {
   "cell_type": "markdown",
   "metadata": {},
   "source": [
    "## India"
   ]
  },
  {
   "cell_type": "code",
   "execution_count": 46,
   "metadata": {},
   "outputs": [],
   "source": [
    "total_confirmed = float(covid19_confirmed_group_country.loc['India'][2:].describe()[7])\n",
    "total_deaths = float(deaths_group_countries.loc['India'][2:].describe()[7])"
   ]
  },
  {
   "cell_type": "code",
   "execution_count": 47,
   "metadata": {},
   "outputs": [
    {
     "name": "stdout",
     "output_type": "stream",
     "text": [
      "The total deaths in percentage by the total cases confirmed in India is: 1.34%\n"
     ]
    }
   ],
   "source": [
    "total_deaths_percentage_in = (total_deaths * 100)/total_confirmed\n",
    "print('The total deaths in percentage by the total cases confirmed in India is: {0:.2f}%'.format(total_deaths_percentage_in))"
   ]
  },
  {
   "cell_type": "markdown",
   "metadata": {},
   "source": [
    "<p>Now we'll check the mortality by this 5 countries</p>\n",
    "<p>First let's create a dataframe with the datas that we created before</p>"
   ]
  },
  {
   "cell_type": "code",
   "execution_count": 48,
   "metadata": {},
   "outputs": [
    {
     "data": {
      "text/html": [
       "<div>\n",
       "<style scoped>\n",
       "    .dataframe tbody tr th:only-of-type {\n",
       "        vertical-align: middle;\n",
       "    }\n",
       "\n",
       "    .dataframe tbody tr th {\n",
       "        vertical-align: top;\n",
       "    }\n",
       "\n",
       "    .dataframe thead th {\n",
       "        text-align: right;\n",
       "    }\n",
       "</style>\n",
       "<table border=\"1\" class=\"dataframe\">\n",
       "  <thead>\n",
       "    <tr style=\"text-align: right;\">\n",
       "      <th></th>\n",
       "      <th>Countries</th>\n",
       "      <th>Percentage deaths</th>\n",
       "    </tr>\n",
       "  </thead>\n",
       "  <tbody>\n",
       "    <tr>\n",
       "      <th>0</th>\n",
       "      <td>Italy</td>\n",
       "      <td>2.97</td>\n",
       "    </tr>\n",
       "    <tr>\n",
       "      <th>1</th>\n",
       "      <td>Brazil</td>\n",
       "      <td>2.79</td>\n",
       "    </tr>\n",
       "    <tr>\n",
       "      <th>2</th>\n",
       "      <td>Argentina</td>\n",
       "      <td>2.14</td>\n",
       "    </tr>\n",
       "    <tr>\n",
       "      <th>3</th>\n",
       "      <td>US</td>\n",
       "      <td>1.77</td>\n",
       "    </tr>\n",
       "    <tr>\n",
       "      <th>4</th>\n",
       "      <td>India</td>\n",
       "      <td>1.34</td>\n",
       "    </tr>\n",
       "    <tr>\n",
       "      <th>5</th>\n",
       "      <td>Qatar</td>\n",
       "      <td>0.27</td>\n",
       "    </tr>\n",
       "  </tbody>\n",
       "</table>\n",
       "</div>"
      ],
      "text/plain": [
       "   Countries  Percentage deaths\n",
       "0      Italy               2.97\n",
       "1     Brazil               2.79\n",
       "2  Argentina               2.14\n",
       "3         US               1.77\n",
       "4      India               1.34\n",
       "5      Qatar               0.27"
      ]
     },
     "execution_count": 48,
     "metadata": {},
     "output_type": "execute_result"
    }
   ],
   "source": [
    "countries = ['Brazil','US','Italy','Argentina','Qatar','India']\n",
    "data = {'Countries':countries,\n",
    "        'Percentage deaths':[round(total_deaths_percentage_br,2),\n",
    "                             round(total_deaths_percentage_us,2),\n",
    "                             round(total_deaths_percentage_italy,2),\n",
    "                             round(total_deaths_percentage_ar,2),\n",
    "                             round(total_deaths_percentage_qa,2),\n",
    "                             round(total_deaths_percentage_in,2)],}\n",
    "percentage_df = pd.DataFrame(data).sort_values(by='Percentage deaths', ascending = False).reset_index(drop=True)\n",
    "percentage_df"
   ]
  },
  {
   "cell_type": "markdown",
   "metadata": {},
   "source": [
    "<p> Now that we have a dataset we can see the information in a graphic"
   ]
  },
  {
   "cell_type": "code",
   "execution_count": 49,
   "metadata": {},
   "outputs": [
    {
     "data": {
      "image/png": "[encoded data removed]",
      "text/plain": [
       "<Figure size 360x360 with 1 Axes>"
      ]
     },
     "metadata": {
      "needs_background": "light"
     },
     "output_type": "display_data"
    }
   ],
   "source": [
    "g = sns.catplot(x=\"Percentage deaths\", \n",
    "            y='Countries', \n",
    "            kind=\"bar\", \n",
    "            data=percentage_df,\n",
    "            palette=sns.color_palette('Blues'))\n",
    "plt.show()"
   ]
  },
  {
   "cell_type": "markdown",
   "metadata": {},
   "source": [
    "<p> Seeing just the letality percentage we can imagine that even US having one of the worst cenary in this pandemic, maybe they have one of the most better health system. </p>"
   ]
  },
  {
   "cell_type": "code",
   "execution_count": 50,
   "metadata": {},
   "outputs": [
    {
     "name": "stdout",
     "output_type": "stream",
     "text": [
      "Qatar has 225072.0 cases confirmed and 600.0 deaths in 07/24/2021\n"
     ]
    }
   ],
   "source": [
    "print('Qatar has {} cases confirmed and {} deaths in {}'.format(covid19_confirmed_group_country.loc['Qatar'][2:].describe()[7],\n",
    "                                                               deaths_group_countries.loc['Qatar'][2:].describe()[7],\n",
    "                                                               day))"
   ]
  },
  {
   "cell_type": "markdown",
   "metadata": {},
   "source": [
    "# TREATMENT AND ANALYSIS OF RECOVERED DATABASE"
   ]
  },
  {
   "cell_type": "code",
   "execution_count": 51,
   "metadata": {},
   "outputs": [
    {
     "data": {
      "text/html": [
       "<div>\n",
       "<style scoped>\n",
       "    .dataframe tbody tr th:only-of-type {\n",
       "        vertical-align: middle;\n",
       "    }\n",
       "\n",
       "    .dataframe tbody tr th {\n",
       "        vertical-align: top;\n",
       "    }\n",
       "\n",
       "    .dataframe thead th {\n",
       "        text-align: right;\n",
       "    }\n",
       "</style>\n",
       "<table border=\"1\" class=\"dataframe\">\n",
       "  <thead>\n",
       "    <tr style=\"text-align: right;\">\n",
       "      <th></th>\n",
       "      <th>Province/State</th>\n",
       "      <th>Country/Region</th>\n",
       "      <th>Lat</th>\n",
       "      <th>Long</th>\n",
       "      <th>1/22/20</th>\n",
       "      <th>1/23/20</th>\n",
       "      <th>1/24/20</th>\n",
       "      <th>1/25/20</th>\n",
       "      <th>1/26/20</th>\n",
       "      <th>1/27/20</th>\n",
       "      <th>...</th>\n",
       "      <th>7/15/21</th>\n",
       "      <th>7/16/21</th>\n",
       "      <th>7/17/21</th>\n",
       "      <th>7/18/21</th>\n",
       "      <th>7/19/21</th>\n",
       "      <th>7/20/21</th>\n",
       "      <th>7/21/21</th>\n",
       "      <th>7/22/21</th>\n",
       "      <th>7/23/21</th>\n",
       "      <th>7/24/21</th>\n",
       "    </tr>\n",
       "  </thead>\n",
       "  <tbody>\n",
       "    <tr>\n",
       "      <th>0</th>\n",
       "      <td>NaN</td>\n",
       "      <td>Afghanistan</td>\n",
       "      <td>33.93911</td>\n",
       "      <td>67.709953</td>\n",
       "      <td>0</td>\n",
       "      <td>0</td>\n",
       "      <td>0</td>\n",
       "      <td>0</td>\n",
       "      <td>0</td>\n",
       "      <td>0</td>\n",
       "      <td>...</td>\n",
       "      <td>82586</td>\n",
       "      <td>82586</td>\n",
       "      <td>82586</td>\n",
       "      <td>82586</td>\n",
       "      <td>82586</td>\n",
       "      <td>82586</td>\n",
       "      <td>82586</td>\n",
       "      <td>82586</td>\n",
       "      <td>82586</td>\n",
       "      <td>82586</td>\n",
       "    </tr>\n",
       "    <tr>\n",
       "      <th>1</th>\n",
       "      <td>NaN</td>\n",
       "      <td>Albania</td>\n",
       "      <td>41.15330</td>\n",
       "      <td>20.168300</td>\n",
       "      <td>0</td>\n",
       "      <td>0</td>\n",
       "      <td>0</td>\n",
       "      <td>0</td>\n",
       "      <td>0</td>\n",
       "      <td>0</td>\n",
       "      <td>...</td>\n",
       "      <td>130061</td>\n",
       "      <td>130067</td>\n",
       "      <td>130072</td>\n",
       "      <td>130074</td>\n",
       "      <td>130081</td>\n",
       "      <td>130086</td>\n",
       "      <td>130097</td>\n",
       "      <td>130109</td>\n",
       "      <td>130118</td>\n",
       "      <td>130125</td>\n",
       "    </tr>\n",
       "    <tr>\n",
       "      <th>2</th>\n",
       "      <td>NaN</td>\n",
       "      <td>Algeria</td>\n",
       "      <td>28.03390</td>\n",
       "      <td>1.659600</td>\n",
       "      <td>0</td>\n",
       "      <td>0</td>\n",
       "      <td>0</td>\n",
       "      <td>0</td>\n",
       "      <td>0</td>\n",
       "      <td>0</td>\n",
       "      <td>...</td>\n",
       "      <td>103809</td>\n",
       "      <td>104397</td>\n",
       "      <td>104992</td>\n",
       "      <td>105604</td>\n",
       "      <td>106337</td>\n",
       "      <td>107041</td>\n",
       "      <td>107776</td>\n",
       "      <td>108537</td>\n",
       "      <td>109349</td>\n",
       "      <td>109951</td>\n",
       "    </tr>\n",
       "    <tr>\n",
       "      <th>3</th>\n",
       "      <td>NaN</td>\n",
       "      <td>Andorra</td>\n",
       "      <td>42.50630</td>\n",
       "      <td>1.521800</td>\n",
       "      <td>0</td>\n",
       "      <td>0</td>\n",
       "      <td>0</td>\n",
       "      <td>0</td>\n",
       "      <td>0</td>\n",
       "      <td>0</td>\n",
       "      <td>...</td>\n",
       "      <td>13829</td>\n",
       "      <td>13844</td>\n",
       "      <td>13844</td>\n",
       "      <td>13844</td>\n",
       "      <td>13897</td>\n",
       "      <td>13930</td>\n",
       "      <td>13930</td>\n",
       "      <td>13988</td>\n",
       "      <td>13988</td>\n",
       "      <td>13988</td>\n",
       "    </tr>\n",
       "    <tr>\n",
       "      <th>4</th>\n",
       "      <td>NaN</td>\n",
       "      <td>Angola</td>\n",
       "      <td>-11.20270</td>\n",
       "      <td>17.873900</td>\n",
       "      <td>0</td>\n",
       "      <td>0</td>\n",
       "      <td>0</td>\n",
       "      <td>0</td>\n",
       "      <td>0</td>\n",
       "      <td>0</td>\n",
       "      <td>...</td>\n",
       "      <td>34620</td>\n",
       "      <td>34724</td>\n",
       "      <td>34732</td>\n",
       "      <td>34755</td>\n",
       "      <td>34790</td>\n",
       "      <td>34857</td>\n",
       "      <td>34893</td>\n",
       "      <td>35082</td>\n",
       "      <td>35082</td>\n",
       "      <td>35423</td>\n",
       "    </tr>\n",
       "  </tbody>\n",
       "</table>\n",
       "<p>5 rows × 554 columns</p>\n",
       "</div>"
      ],
      "text/plain": [
       "  Province/State Country/Region       Lat       Long  1/22/20  1/23/20  \\\n",
       "0            NaN    Afghanistan  33.93911  67.709953        0        0   \n",
       "1            NaN        Albania  41.15330  20.168300        0        0   \n",
       "2            NaN        Algeria  28.03390   1.659600        0        0   \n",
       "3            NaN        Andorra  42.50630   1.521800        0        0   \n",
       "4            NaN         Angola -11.20270  17.873900        0        0   \n",
       "\n",
       "   1/24/20  1/25/20  1/26/20  1/27/20  ...  7/15/21  7/16/21  7/17/21  \\\n",
       "0        0        0        0        0  ...    82586    82586    82586   \n",
       "1        0        0        0        0  ...   130061   130067   130072   \n",
       "2        0        0        0        0  ...   103809   104397   104992   \n",
       "3        0        0        0        0  ...    13829    13844    13844   \n",
       "4        0        0        0        0  ...    34620    34724    34732   \n",
       "\n",
       "   7/18/21  7/19/21  7/20/21  7/21/21  7/22/21  7/23/21  7/24/21  \n",
       "0    82586    82586    82586    82586    82586    82586    82586  \n",
       "1   130074   130081   130086   130097   130109   130118   130125  \n",
       "2   105604   106337   107041   107776   108537   109349   109951  \n",
       "3    13844    13897    13930    13930    13988    13988    13988  \n",
       "4    34755    34790    34857    34893    35082    35082    35423  \n",
       "\n",
       "[5 rows x 554 columns]"
      ]
     },
     "execution_count": 51,
     "metadata": {},
     "output_type": "execute_result"
    }
   ],
   "source": [
    "recovered.head()"
   ]
  },
  {
   "cell_type": "code",
   "execution_count": 52,
   "metadata": {},
   "outputs": [],
   "source": [
    "recovered_group_countries = recovered.groupby('Country/Region').sum()"
   ]
  },
  {
   "cell_type": "code",
   "execution_count": 53,
   "metadata": {},
   "outputs": [
    {
     "name": "stdout",
     "output_type": "stream",
     "text": [
      "Brasil has 17656625.0 recovered in 07/24/2021\n"
     ]
    }
   ],
   "source": [
    "print('Brasil has {} recovered in {}'.format(recovered_group_countries.loc['Brazil'].describe()[7],day))"
   ]
  },
  {
   "cell_type": "code",
   "execution_count": 54,
   "metadata": {},
   "outputs": [
    {
     "name": "stdout",
     "output_type": "stream",
     "text": [
      "US has 6298082.0 recovered in 07/24/2021\n"
     ]
    }
   ],
   "source": [
    "print('US has {} recovered in {}'.format(recovered_group_countries.loc['US'].describe()[7],day))"
   ]
  },
  {
   "cell_type": "markdown",
   "metadata": {},
   "source": [
    "<p> US are not in the list, maybe they do not sent to the database the numbers of Recovered</p>"
   ]
  },
  {
   "cell_type": "code",
   "execution_count": 55,
   "metadata": {},
   "outputs": [
    {
     "data": {
      "text/plain": [
       "<AxesSubplot:xlabel='Country/Region'>"
      ]
     },
     "execution_count": 55,
     "metadata": {},
     "output_type": "execute_result"
    },
    {
     "data": {
      "image/png": "[encoded data removed]",
      "text/plain": [
       "<Figure size 1080x360 with 1 Axes>"
      ]
     },
     "metadata": {
      "needs_background": "light"
     },
     "output_type": "display_data"
    }
   ],
   "source": [
    "plt.figure(figsize=(15,5))\n",
    "recovered_group_countries[last_date_deaths][2:].sort_values(ascending = False)[:15].plot(kind = 'bar')"
   ]
  },
  {
   "cell_type": "markdown",
   "metadata": {},
   "source": [
    "# CREATING JUST ONE DS"
   ]
  },
  {
   "cell_type": "code",
   "execution_count": 56,
   "metadata": {},
   "outputs": [],
   "source": [
    "def last_day_by_country (data):\n",
    "    return data.groupby('Country/Region').sum().iloc[:,-1]"
   ]
  },
  {
   "cell_type": "code",
   "execution_count": 57,
   "metadata": {},
   "outputs": [],
   "source": [
    "list_of_data = [last_day_by_country(confirmed),last_day_by_country(deaths),last_day_by_country(recovered)]"
   ]
  },
  {
   "cell_type": "code",
   "execution_count": 58,
   "metadata": {},
   "outputs": [
    {
     "data": {
      "text/html": [
       "<div>\n",
       "<style scoped>\n",
       "    .dataframe tbody tr th:only-of-type {\n",
       "        vertical-align: middle;\n",
       "    }\n",
       "\n",
       "    .dataframe tbody tr th {\n",
       "        vertical-align: top;\n",
       "    }\n",
       "\n",
       "    .dataframe thead th {\n",
       "        text-align: right;\n",
       "    }\n",
       "</style>\n",
       "<table border=\"1\" class=\"dataframe\">\n",
       "  <thead>\n",
       "    <tr style=\"text-align: right;\">\n",
       "      <th></th>\n",
       "      <th>Confirmed</th>\n",
       "      <th>Deaths</th>\n",
       "      <th>Recovered</th>\n",
       "    </tr>\n",
       "    <tr>\n",
       "      <th>Country/Region</th>\n",
       "      <th></th>\n",
       "      <th></th>\n",
       "      <th></th>\n",
       "    </tr>\n",
       "  </thead>\n",
       "  <tbody>\n",
       "    <tr>\n",
       "      <th>Afghanistan</th>\n",
       "      <td>143439</td>\n",
       "      <td>6357</td>\n",
       "      <td>82586</td>\n",
       "    </tr>\n",
       "    <tr>\n",
       "      <th>Albania</th>\n",
       "      <td>132853</td>\n",
       "      <td>2456</td>\n",
       "      <td>130125</td>\n",
       "    </tr>\n",
       "    <tr>\n",
       "      <th>Algeria</th>\n",
       "      <td>160868</td>\n",
       "      <td>4042</td>\n",
       "      <td>109951</td>\n",
       "    </tr>\n",
       "    <tr>\n",
       "      <th>Andorra</th>\n",
       "      <td>14498</td>\n",
       "      <td>127</td>\n",
       "      <td>13988</td>\n",
       "    </tr>\n",
       "    <tr>\n",
       "      <th>Angola</th>\n",
       "      <td>41736</td>\n",
       "      <td>982</td>\n",
       "      <td>35423</td>\n",
       "    </tr>\n",
       "    <tr>\n",
       "      <th>...</th>\n",
       "      <td>...</td>\n",
       "      <td>...</td>\n",
       "      <td>...</td>\n",
       "    </tr>\n",
       "    <tr>\n",
       "      <th>Vietnam</th>\n",
       "      <td>94913</td>\n",
       "      <td>370</td>\n",
       "      <td>17583</td>\n",
       "    </tr>\n",
       "    <tr>\n",
       "      <th>West Bank and Gaza</th>\n",
       "      <td>315968</td>\n",
       "      <td>3596</td>\n",
       "      <td>311380</td>\n",
       "    </tr>\n",
       "    <tr>\n",
       "      <th>Yemen</th>\n",
       "      <td>7008</td>\n",
       "      <td>1373</td>\n",
       "      <td>4166</td>\n",
       "    </tr>\n",
       "    <tr>\n",
       "      <th>Zambia</th>\n",
       "      <td>191527</td>\n",
       "      <td>3250</td>\n",
       "      <td>180535</td>\n",
       "    </tr>\n",
       "    <tr>\n",
       "      <th>Zimbabwe</th>\n",
       "      <td>97277</td>\n",
       "      <td>3050</td>\n",
       "      <td>64628</td>\n",
       "    </tr>\n",
       "  </tbody>\n",
       "</table>\n",
       "<p>195 rows × 3 columns</p>\n",
       "</div>"
      ],
      "text/plain": [
       "                    Confirmed  Deaths  Recovered\n",
       "Country/Region                                  \n",
       "Afghanistan            143439    6357      82586\n",
       "Albania                132853    2456     130125\n",
       "Algeria                160868    4042     109951\n",
       "Andorra                 14498     127      13988\n",
       "Angola                  41736     982      35423\n",
       "...                       ...     ...        ...\n",
       "Vietnam                 94913     370      17583\n",
       "West Bank and Gaza     315968    3596     311380\n",
       "Yemen                    7008    1373       4166\n",
       "Zambia                 191527    3250     180535\n",
       "Zimbabwe                97277    3050      64628\n",
       "\n",
       "[195 rows x 3 columns]"
      ]
     },
     "execution_count": 58,
     "metadata": {},
     "output_type": "execute_result"
    }
   ],
   "source": [
    "df_complete = pd.concat(list_of_data,axis=1)\n",
    "df_complete.columns=['Confirmed','Deaths','Recovered']\n",
    "df_complete"
   ]
  },
  {
   "cell_type": "code",
   "execution_count": 59,
   "metadata": {},
   "outputs": [],
   "source": [
    "df_complete['Letality_rate'] = round((df_complete['Deaths']*100)/df_complete['Confirmed'],2)\n",
    "df_complete.sort_values(by='Letality_rate',ascending = False, inplace = True)"
   ]
  },
  {
   "cell_type": "code",
   "execution_count": 60,
   "metadata": {},
   "outputs": [],
   "source": [
    "df_complete_r = df_complete.reset_index()"
   ]
  },
  {
   "cell_type": "code",
   "execution_count": 61,
   "metadata": {},
   "outputs": [
    {
     "data": {
      "image/png": "[encoded data removed]",
      "text/plain": [
       "<Figure size 360x360 with 1 Axes>"
      ]
     },
     "metadata": {
      "needs_background": "light"
     },
     "output_type": "display_data"
    }
   ],
   "source": [
    "g = sns.catplot(x='Letality_rate',\n",
    "                y='Country/Region', \n",
    "                kind=\"bar\",\n",
    "                data=df_complete_r[:20].query('Confirmed > 200'),\n",
    "                palette=sns.color_palette('Blues'),)\n",
    "plt.show()"
   ]
  },
  {
   "cell_type": "code",
   "execution_count": 62,
   "metadata": {},
   "outputs": [
    {
     "data": {
      "text/html": [
       "<div>\n",
       "<style scoped>\n",
       "    .dataframe tbody tr th:only-of-type {\n",
       "        vertical-align: middle;\n",
       "    }\n",
       "\n",
       "    .dataframe tbody tr th {\n",
       "        vertical-align: top;\n",
       "    }\n",
       "\n",
       "    .dataframe thead th {\n",
       "        text-align: right;\n",
       "    }\n",
       "</style>\n",
       "<table border=\"1\" class=\"dataframe\">\n",
       "  <thead>\n",
       "    <tr style=\"text-align: right;\">\n",
       "      <th></th>\n",
       "      <th>Country/Region</th>\n",
       "      <th>Confirmed</th>\n",
       "      <th>Deaths</th>\n",
       "      <th>Recovered</th>\n",
       "      <th>Letality_rate</th>\n",
       "    </tr>\n",
       "  </thead>\n",
       "  <tbody>\n",
       "    <tr>\n",
       "      <th>2</th>\n",
       "      <td>Yemen</td>\n",
       "      <td>7008</td>\n",
       "      <td>1373</td>\n",
       "      <td>4166</td>\n",
       "      <td>19.59</td>\n",
       "    </tr>\n",
       "    <tr>\n",
       "      <th>3</th>\n",
       "      <td>Peru</td>\n",
       "      <td>2094445</td>\n",
       "      <td>195243</td>\n",
       "      <td>2060255</td>\n",
       "      <td>9.32</td>\n",
       "    </tr>\n",
       "    <tr>\n",
       "      <th>4</th>\n",
       "      <td>Mexico</td>\n",
       "      <td>2741983</td>\n",
       "      <td>238316</td>\n",
       "      <td>2140327</td>\n",
       "      <td>8.69</td>\n",
       "    </tr>\n",
       "    <tr>\n",
       "      <th>5</th>\n",
       "      <td>Sudan</td>\n",
       "      <td>37138</td>\n",
       "      <td>2776</td>\n",
       "      <td>30647</td>\n",
       "      <td>7.47</td>\n",
       "    </tr>\n",
       "    <tr>\n",
       "      <th>6</th>\n",
       "      <td>Syria</td>\n",
       "      <td>25865</td>\n",
       "      <td>1905</td>\n",
       "      <td>21942</td>\n",
       "      <td>7.37</td>\n",
       "    </tr>\n",
       "    <tr>\n",
       "      <th>...</th>\n",
       "      <td>...</td>\n",
       "      <td>...</td>\n",
       "      <td>...</td>\n",
       "      <td>...</td>\n",
       "      <td>...</td>\n",
       "    </tr>\n",
       "    <tr>\n",
       "      <th>182</th>\n",
       "      <td>Burundi</td>\n",
       "      <td>6128</td>\n",
       "      <td>8</td>\n",
       "      <td>773</td>\n",
       "      <td>0.13</td>\n",
       "    </tr>\n",
       "    <tr>\n",
       "      <th>183</th>\n",
       "      <td>Laos</td>\n",
       "      <td>4620</td>\n",
       "      <td>5</td>\n",
       "      <td>2174</td>\n",
       "      <td>0.11</td>\n",
       "    </tr>\n",
       "    <tr>\n",
       "      <th>184</th>\n",
       "      <td>Bhutan</td>\n",
       "      <td>2482</td>\n",
       "      <td>2</td>\n",
       "      <td>2222</td>\n",
       "      <td>0.08</td>\n",
       "    </tr>\n",
       "    <tr>\n",
       "      <th>185</th>\n",
       "      <td>Singapore</td>\n",
       "      <td>64054</td>\n",
       "      <td>37</td>\n",
       "      <td>62595</td>\n",
       "      <td>0.06</td>\n",
       "    </tr>\n",
       "    <tr>\n",
       "      <th>187</th>\n",
       "      <td>Dominica</td>\n",
       "      <td>209</td>\n",
       "      <td>0</td>\n",
       "      <td>196</td>\n",
       "      <td>0.00</td>\n",
       "    </tr>\n",
       "  </tbody>\n",
       "</table>\n",
       "<p>184 rows × 5 columns</p>\n",
       "</div>"
      ],
      "text/plain": [
       "    Country/Region  Confirmed  Deaths  Recovered  Letality_rate\n",
       "2            Yemen       7008    1373       4166          19.59\n",
       "3             Peru    2094445  195243    2060255           9.32\n",
       "4           Mexico    2741983  238316    2140327           8.69\n",
       "5            Sudan      37138    2776      30647           7.47\n",
       "6            Syria      25865    1905      21942           7.37\n",
       "..             ...        ...     ...        ...            ...\n",
       "182        Burundi       6128       8        773           0.13\n",
       "183           Laos       4620       5       2174           0.11\n",
       "184         Bhutan       2482       2       2222           0.08\n",
       "185      Singapore      64054      37      62595           0.06\n",
       "187       Dominica        209       0        196           0.00\n",
       "\n",
       "[184 rows x 5 columns]"
      ]
     },
     "execution_count": 62,
     "metadata": {},
     "output_type": "execute_result"
    }
   ],
   "source": [
    "df_complete_r.query('Confirmed >200')"
   ]
  },
  {
   "cell_type": "code",
   "execution_count": 63,
   "metadata": {},
   "outputs": [
    {
     "data": {
      "image/png": "[encoded data removed]",
      "text/plain": [
       "<Figure size 576x576 with 1 Axes>"
      ]
     },
     "metadata": {
      "needs_background": "light"
     },
     "output_type": "display_data"
    }
   ],
   "source": [
    "plt.figure(figsize=(8, 8))\n",
    "s = sns.scatterplot(x='Confirmed',\n",
    "                    y='Letality_rate', \n",
    "                    data=df_complete_r.query('Confirmed > 100000'))\n",
    "plt.show()"
   ]
  },
  {
   "cell_type": "code",
   "execution_count": 64,
   "metadata": {},
   "outputs": [
    {
     "data": {
      "text/plain": [
       "Confirmed        19670534.00\n",
       "Deaths             549448.00\n",
       "Recovered        17656625.00\n",
       "Letality_rate           2.79\n",
       "Name: Brazil, dtype: float64"
      ]
     },
     "execution_count": 64,
     "metadata": {},
     "output_type": "execute_result"
    }
   ],
   "source": [
    "df_complete.loc['Brazil']"
   ]
  },
  {
   "cell_type": "code",
   "execution_count": 65,
   "metadata": {},
   "outputs": [
    {
     "data": {
      "text/plain": [
       "Confirmed        31371901.00\n",
       "Deaths             420551.00\n",
       "Recovered        30543138.00\n",
       "Letality_rate           1.34\n",
       "Name: India, dtype: float64"
      ]
     },
     "execution_count": 65,
     "metadata": {},
     "output_type": "execute_result"
    }
   ],
   "source": [
    "df_complete.loc['India']"
   ]
  },
  {
   "cell_type": "code",
   "execution_count": 66,
   "metadata": {},
   "outputs": [
    {
     "data": {
      "text/html": [
       "<div>\n",
       "<style scoped>\n",
       "    .dataframe tbody tr th:only-of-type {\n",
       "        vertical-align: middle;\n",
       "    }\n",
       "\n",
       "    .dataframe tbody tr th {\n",
       "        vertical-align: top;\n",
       "    }\n",
       "\n",
       "    .dataframe thead th {\n",
       "        text-align: right;\n",
       "    }\n",
       "</style>\n",
       "<table border=\"1\" class=\"dataframe\">\n",
       "  <thead>\n",
       "    <tr style=\"text-align: right;\">\n",
       "      <th></th>\n",
       "      <th>Confirmed</th>\n",
       "      <th>Deaths</th>\n",
       "      <th>Recovered</th>\n",
       "      <th>Letality_rate</th>\n",
       "    </tr>\n",
       "    <tr>\n",
       "      <th>Country/Region</th>\n",
       "      <th></th>\n",
       "      <th></th>\n",
       "      <th></th>\n",
       "      <th></th>\n",
       "    </tr>\n",
       "  </thead>\n",
       "  <tbody>\n",
       "    <tr>\n",
       "      <th>US</th>\n",
       "      <td>34428050</td>\n",
       "      <td>610835</td>\n",
       "      <td>0</td>\n",
       "      <td>1.77</td>\n",
       "    </tr>\n",
       "    <tr>\n",
       "      <th>Brazil</th>\n",
       "      <td>19670534</td>\n",
       "      <td>549448</td>\n",
       "      <td>17656625</td>\n",
       "      <td>2.79</td>\n",
       "    </tr>\n",
       "    <tr>\n",
       "      <th>India</th>\n",
       "      <td>31371901</td>\n",
       "      <td>420551</td>\n",
       "      <td>30543138</td>\n",
       "      <td>1.34</td>\n",
       "    </tr>\n",
       "    <tr>\n",
       "      <th>Mexico</th>\n",
       "      <td>2741983</td>\n",
       "      <td>238316</td>\n",
       "      <td>2140327</td>\n",
       "      <td>8.69</td>\n",
       "    </tr>\n",
       "    <tr>\n",
       "      <th>Peru</th>\n",
       "      <td>2094445</td>\n",
       "      <td>195243</td>\n",
       "      <td>2060255</td>\n",
       "      <td>9.32</td>\n",
       "    </tr>\n",
       "    <tr>\n",
       "      <th>...</th>\n",
       "      <td>...</td>\n",
       "      <td>...</td>\n",
       "      <td>...</td>\n",
       "      <td>...</td>\n",
       "    </tr>\n",
       "    <tr>\n",
       "      <th>Samoa</th>\n",
       "      <td>3</td>\n",
       "      <td>0</td>\n",
       "      <td>3</td>\n",
       "      <td>0.00</td>\n",
       "    </tr>\n",
       "    <tr>\n",
       "      <th>Holy See</th>\n",
       "      <td>27</td>\n",
       "      <td>0</td>\n",
       "      <td>27</td>\n",
       "      <td>0.00</td>\n",
       "    </tr>\n",
       "    <tr>\n",
       "      <th>Micronesia</th>\n",
       "      <td>1</td>\n",
       "      <td>0</td>\n",
       "      <td>1</td>\n",
       "      <td>0.00</td>\n",
       "    </tr>\n",
       "    <tr>\n",
       "      <th>Marshall Islands</th>\n",
       "      <td>4</td>\n",
       "      <td>0</td>\n",
       "      <td>4</td>\n",
       "      <td>0.00</td>\n",
       "    </tr>\n",
       "    <tr>\n",
       "      <th>Palau</th>\n",
       "      <td>0</td>\n",
       "      <td>0</td>\n",
       "      <td>0</td>\n",
       "      <td>NaN</td>\n",
       "    </tr>\n",
       "  </tbody>\n",
       "</table>\n",
       "<p>195 rows × 4 columns</p>\n",
       "</div>"
      ],
      "text/plain": [
       "                  Confirmed  Deaths  Recovered  Letality_rate\n",
       "Country/Region                                               \n",
       "US                 34428050  610835          0           1.77\n",
       "Brazil             19670534  549448   17656625           2.79\n",
       "India              31371901  420551   30543138           1.34\n",
       "Mexico              2741983  238316    2140327           8.69\n",
       "Peru                2094445  195243    2060255           9.32\n",
       "...                     ...     ...        ...            ...\n",
       "Samoa                     3       0          3           0.00\n",
       "Holy See                 27       0         27           0.00\n",
       "Micronesia                1       0          1           0.00\n",
       "Marshall Islands          4       0          4           0.00\n",
       "Palau                     0       0          0            NaN\n",
       "\n",
       "[195 rows x 4 columns]"
      ]
     },
     "execution_count": 66,
     "metadata": {},
     "output_type": "execute_result"
    }
   ],
   "source": [
    "df_complete.sort_values(by='Deaths',ascending = False)"
   ]
  },
  {
   "cell_type": "markdown",
   "metadata": {},
   "source": [
    "# Part II"
   ]
  },
  {
   "cell_type": "code",
   "execution_count": 67,
   "metadata": {},
   "outputs": [],
   "source": [
    "confirmed_world = confirmed"
   ]
  },
  {
   "cell_type": "code",
   "execution_count": 68,
   "metadata": {},
   "outputs": [],
   "source": [
    "confirmed_world['World'] = 'World'"
   ]
  },
  {
   "cell_type": "code",
   "execution_count": 69,
   "metadata": {},
   "outputs": [],
   "source": [
    "confirmed_world = confirmed_world.groupby('World').sum()"
   ]
  },
  {
   "cell_type": "code",
   "execution_count": 70,
   "metadata": {},
   "outputs": [
    {
     "data": {
      "text/html": [
       "<div>\n",
       "<style scoped>\n",
       "    .dataframe tbody tr th:only-of-type {\n",
       "        vertical-align: middle;\n",
       "    }\n",
       "\n",
       "    .dataframe tbody tr th {\n",
       "        vertical-align: top;\n",
       "    }\n",
       "\n",
       "    .dataframe thead th {\n",
       "        text-align: right;\n",
       "    }\n",
       "</style>\n",
       "<table border=\"1\" class=\"dataframe\">\n",
       "  <thead>\n",
       "    <tr style=\"text-align: right;\">\n",
       "      <th></th>\n",
       "      <th>Lat</th>\n",
       "      <th>Long</th>\n",
       "      <th>1/22/20</th>\n",
       "      <th>1/23/20</th>\n",
       "      <th>1/24/20</th>\n",
       "      <th>1/25/20</th>\n",
       "      <th>1/26/20</th>\n",
       "      <th>1/27/20</th>\n",
       "      <th>1/28/20</th>\n",
       "      <th>1/29/20</th>\n",
       "      <th>...</th>\n",
       "      <th>7/15/21</th>\n",
       "      <th>7/16/21</th>\n",
       "      <th>7/17/21</th>\n",
       "      <th>7/18/21</th>\n",
       "      <th>7/19/21</th>\n",
       "      <th>7/20/21</th>\n",
       "      <th>7/21/21</th>\n",
       "      <th>7/22/21</th>\n",
       "      <th>7/23/21</th>\n",
       "      <th>7/24/21</th>\n",
       "    </tr>\n",
       "    <tr>\n",
       "      <th>World</th>\n",
       "      <th></th>\n",
       "      <th></th>\n",
       "      <th></th>\n",
       "      <th></th>\n",
       "      <th></th>\n",
       "      <th></th>\n",
       "      <th></th>\n",
       "      <th></th>\n",
       "      <th></th>\n",
       "      <th></th>\n",
       "      <th></th>\n",
       "      <th></th>\n",
       "      <th></th>\n",
       "      <th></th>\n",
       "      <th></th>\n",
       "      <th></th>\n",
       "      <th></th>\n",
       "      <th></th>\n",
       "      <th></th>\n",
       "      <th></th>\n",
       "      <th></th>\n",
       "    </tr>\n",
       "  </thead>\n",
       "  <tbody>\n",
       "    <tr>\n",
       "      <th>World</th>\n",
       "      <td>5624.55855</td>\n",
       "      <td>6232.527614</td>\n",
       "      <td>557</td>\n",
       "      <td>655</td>\n",
       "      <td>941</td>\n",
       "      <td>1433</td>\n",
       "      <td>2118</td>\n",
       "      <td>2927</td>\n",
       "      <td>5578</td>\n",
       "      <td>6167</td>\n",
       "      <td>...</td>\n",
       "      <td>188925889</td>\n",
       "      <td>189525838</td>\n",
       "      <td>189998474</td>\n",
       "      <td>190418368</td>\n",
       "      <td>190916061</td>\n",
       "      <td>191445502</td>\n",
       "      <td>192005075</td>\n",
       "      <td>192573994</td>\n",
       "      <td>193165622</td>\n",
       "      <td>193730907</td>\n",
       "    </tr>\n",
       "  </tbody>\n",
       "</table>\n",
       "<p>1 rows × 552 columns</p>\n",
       "</div>"
      ],
      "text/plain": [
       "              Lat         Long  1/22/20  1/23/20  1/24/20  1/25/20  1/26/20  \\\n",
       "World                                                                         \n",
       "World  5624.55855  6232.527614      557      655      941     1433     2118   \n",
       "\n",
       "       1/27/20  1/28/20  1/29/20  ...    7/15/21    7/16/21    7/17/21  \\\n",
       "World                             ...                                    \n",
       "World     2927     5578     6167  ...  188925889  189525838  189998474   \n",
       "\n",
       "         7/18/21    7/19/21    7/20/21    7/21/21    7/22/21    7/23/21  \\\n",
       "World                                                                     \n",
       "World  190418368  190916061  191445502  192005075  192573994  193165622   \n",
       "\n",
       "         7/24/21  \n",
       "World             \n",
       "World  193730907  \n",
       "\n",
       "[1 rows x 552 columns]"
      ]
     },
     "execution_count": 70,
     "metadata": {},
     "output_type": "execute_result"
    }
   ],
   "source": [
    "confirmed_world"
   ]
  },
  {
   "cell_type": "code",
   "execution_count": 71,
   "metadata": {},
   "outputs": [
    {
     "name": "stdout",
     "output_type": "stream",
     "text": [
      "In 07/24/2021 world has 193730907.0 Covid 19 cases confirmed\n"
     ]
    }
   ],
   "source": [
    "print('In {} world has {} Covid 19 cases confirmed'.format(day,confirmed_world.loc['World'][2:].describe()[7]))"
   ]
  },
  {
   "cell_type": "code",
   "execution_count": 72,
   "metadata": {},
   "outputs": [
    {
     "data": {
      "text/plain": [
       "<AxesSubplot:>"
      ]
     },
     "execution_count": 72,
     "metadata": {},
     "output_type": "execute_result"
    },
    {
     "data": {
      "image/png": "[encoded data removed]",
      "text/plain": [
       "<Figure size 432x288 with 1 Axes>"
      ]
     },
     "metadata": {
      "needs_background": "light"
     },
     "output_type": "display_data"
    }
   ],
   "source": [
    "confirmed_world.loc['World'][2:].plot()"
   ]
  },
  {
   "cell_type": "code",
   "execution_count": 73,
   "metadata": {},
   "outputs": [],
   "source": [
    "deaths_world = deaths\n",
    "deaths_world['World'] = 'World'\n",
    "deaths_world= deaths_world.groupby('World').sum()"
   ]
  },
  {
   "cell_type": "code",
   "execution_count": 74,
   "metadata": {},
   "outputs": [
    {
     "name": "stdout",
     "output_type": "stream",
     "text": [
      "In 07/24/2021 world has 4152497.0 deaths by Covid 19\n"
     ]
    }
   ],
   "source": [
    "print('In {} world has {} deaths by Covid 19'.format(day,deaths_world.loc['World'][2:].describe()[7]))"
   ]
  },
  {
   "cell_type": "code",
   "execution_count": 75,
   "metadata": {},
   "outputs": [
    {
     "data": {
      "text/plain": [
       "<AxesSubplot:>"
      ]
     },
     "execution_count": 75,
     "metadata": {},
     "output_type": "execute_result"
    },
    {
     "data": {
      "image/png": "[encoded data removed]",
      "text/plain": [
       "<Figure size 432x288 with 1 Axes>"
      ]
     },
     "metadata": {
      "needs_background": "light"
     },
     "output_type": "display_data"
    }
   ],
   "source": [
    "deaths_world.loc['World'][2:].plot()"
   ]
  },
  {
   "cell_type": "code",
   "execution_count": 76,
   "metadata": {},
   "outputs": [],
   "source": [
    "deaths_covid = deaths_world.loc['World'][2:].describe()[7]\n",
    "confirmed_covid = confirmed_world.loc['World'][2:].describe()[7]"
   ]
  },
  {
   "cell_type": "code",
   "execution_count": 77,
   "metadata": {},
   "outputs": [
    {
     "data": {
      "text/plain": [
       "2.1434354818769314"
      ]
     },
     "execution_count": 77,
     "metadata": {},
     "output_type": "execute_result"
    }
   ],
   "source": [
    "letality_world = (deaths_covid*100)/confirmed_covid\n",
    "letality_world"
   ]
  },
  {
   "cell_type": "code",
   "execution_count": 78,
   "metadata": {},
   "outputs": [
    {
     "name": "stdout",
     "output_type": "stream",
     "text": [
      "The World letality of Covid 19 in 07/24/2021 is 2.14%\n"
     ]
    }
   ],
   "source": [
    "print('The World letality of Covid 19 in {} is {}%'.format(day,round(letality_world,2)))"
   ]
  },
  {
   "cell_type": "code",
   "execution_count": 79,
   "metadata": {},
   "outputs": [],
   "source": [
    "deaths_br = float(deaths_group_countries.loc['Brazil'][2:].describe()[7])"
   ]
  },
  {
   "cell_type": "code",
   "execution_count": 80,
   "metadata": {},
   "outputs": [],
   "source": [
    "total_deaths_br_world = round((deaths_br*100)/deaths_covid,2)"
   ]
  },
  {
   "cell_type": "code",
   "execution_count": 81,
   "metadata": {},
   "outputs": [
    {
     "name": "stdout",
     "output_type": "stream",
     "text": [
      "The deaths in Brazil represents 13.23% of total deaths in the world in 07/24/2021\n"
     ]
    }
   ],
   "source": [
    "print('The deaths in Brazil represents {}% of total deaths in the world in {}'.format(total_deaths_br_world,day))"
   ]
  }
 ],
 "metadata": {
  "kernelspec": {
   "display_name": "Python 3",
   "language": "python",
   "name": "python3"
  },
  "language_info": {
   "codemirror_mode": {
    "name": "ipython",
    "version": 3
   },
   "file_extension": ".py",
   "mimetype": "text/x-python",
   "name": "python",
   "nbconvert_exporter": "python",
   "pygments_lexer": "ipython3",
   "version": "3.7.1"
  }
 },
 "nbformat": 4,
 "nbformat_minor": 2
}
